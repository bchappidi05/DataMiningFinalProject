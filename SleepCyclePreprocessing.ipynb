{
 "cells": [
  {
   "cell_type": "markdown",
   "id": "5983017f-4de0-4014-afcd-9b957e63a1c5",
   "metadata": {},
   "source": [
    "## Data Preprocessing"
   ]
  },
  {
   "cell_type": "code",
   "execution_count": 1,
   "id": "4a10eb76-2c64-4ca5-99e3-5e08daf96c6f",
   "metadata": {},
   "outputs": [],
   "source": [
    "import pandas as pd\n",
    "from sklearn.preprocessing import LabelEncoder, StandardScaler"
   ]
  },
  {
   "cell_type": "markdown",
   "id": "b041ffe7-ff2b-4d78-8d1b-f91e2c79a834",
   "metadata": {},
   "source": [
    "## Load dataset"
   ]
  },
  {
   "cell_type": "code",
   "execution_count": 3,
   "id": "98ba93ba-a475-4b3f-b55c-ed4908581f4c",
   "metadata": {},
   "outputs": [],
   "source": [
    "df = pd.read_csv(\"sleep_cycle_productivity.csv\")"
   ]
  },
  {
   "cell_type": "markdown",
   "id": "0e2b8c0e-79d1-4165-bf8c-c3083a186aa9",
   "metadata": {},
   "source": [
    "## Drop irrelevant columns"
   ]
  },
  {
   "cell_type": "code",
   "execution_count": 4,
   "id": "ea069d31-2e41-4a0e-be35-9126a0b665fa",
   "metadata": {},
   "outputs": [],
   "source": [
    "df = df.drop(columns=[\"Date\", \"Person_ID\"])"
   ]
  },
  {
   "cell_type": "markdown",
   "id": "13109874-32ac-4af3-9b36-74b3badb183e",
   "metadata": {},
   "source": [
    "## Encode categorical column"
   ]
  },
  {
   "cell_type": "code",
   "execution_count": 5,
   "id": "13507794-801e-447b-8018-c2a296bda7f2",
   "metadata": {},
   "outputs": [],
   "source": [
    "le = LabelEncoder()\n",
    "df['Gender'] = le.fit_transform(df['Gender']) "
   ]
  },
  {
   "cell_type": "markdown",
   "id": "8afaf1e1-cf65-4002-8a76-8754af4ed529",
   "metadata": {},
   "source": [
    "## Drop missing values"
   ]
  },
  {
   "cell_type": "code",
   "execution_count": 6,
   "id": "78cb5515-7d09-4072-a68a-6d8e1d574800",
   "metadata": {},
   "outputs": [],
   "source": [
    "df = df.dropna()"
   ]
  },
  {
   "cell_type": "markdown",
   "id": "52976a52-2b33-415b-83ce-9649a69efee1",
   "metadata": {},
   "source": [
    "## Scale numeric columns"
   ]
  },
  {
   "cell_type": "code",
   "execution_count": 7,
   "id": "6700e70c-e8fc-4e6b-9f5b-37a907b0e381",
   "metadata": {},
   "outputs": [],
   "source": [
    "scaler = StandardScaler()\n",
    "numeric_cols = df.columns.drop(\"Sleep Quality\")  # Don't scale target variable\n",
    "df[numeric_cols] = scaler.fit_transform(df[numeric_cols])"
   ]
  },
  {
   "cell_type": "code",
   "execution_count": 8,
   "id": "f2fa8c99-1d08-4f14-b123-6a8efe7410aa",
   "metadata": {},
   "outputs": [
    {
     "name": "stdout",
     "output_type": "stream",
     "text": [
      "        Age    Gender  Sleep Start Time  Sleep End Time  Total Sleep Hours  \\\n",
      "0 -0.535753  1.251248          1.144430       -0.198817          -1.165773   \n",
      "1  0.195861 -1.217671         -0.851292       -1.369399          -1.076357   \n",
      "2 -1.511238  0.016789          0.081773       -0.821696          -1.117626   \n",
      "3 -0.129301  1.251248          0.945722        0.896590           0.395559   \n",
      "4  0.602313  1.251248         -0.505713       -0.435082          -0.154690   \n",
      "\n",
      "   Sleep Quality  Exercise (mins/day)  Caffeine Intake (mg)  \\\n",
      "0              3             1.629612             -0.695752   \n",
      "1              5            -0.463739             -1.464778   \n",
      "2              7            -1.045226             -0.684100   \n",
      "3              8             0.078981             -1.313304   \n",
      "4             10             0.660468              1.424896   \n",
      "\n",
      "   Screen Time Before Bed (mins)  Work Hours (hrs/day)  Productivity Score  \\\n",
      "0                       0.471998              0.360819            0.820283   \n",
      "1                      -0.065699             -0.728647            1.516678   \n",
      "2                      -0.622600              0.227832            1.516678   \n",
      "3                      -0.219327             -0.842728            0.820283   \n",
      "4                       0.049522              1.488513            0.820283   \n",
      "\n",
      "   Mood Score  Stress Level  \n",
      "0   -0.836043      0.156503  \n",
      "1   -0.836043      0.502747  \n",
      "2    1.279986      1.541482  \n",
      "3   -0.483372     -1.228476  \n",
      "4    0.574643      1.195237  \n"
     ]
    }
   ],
   "source": [
    "print(df.head())"
   ]
  },
  {
   "cell_type": "markdown",
   "id": "ff801376-82f3-4c85-92ca-27c7610dbbd8",
   "metadata": {},
   "source": [
    "## Save preprocessed data to CSV"
   ]
  },
  {
   "cell_type": "code",
   "execution_count": 9,
   "id": "b456bc1a-c5c1-4200-91b0-3e1afce77436",
   "metadata": {},
   "outputs": [],
   "source": [
    "df.to_csv(\"sleep_cycle_productivity_preprocessed.csv\", index=False)"
   ]
  },
  {
   "cell_type": "code",
   "execution_count": null,
   "id": "441cc799-7a97-4290-a2ea-a3bc24c61da4",
   "metadata": {},
   "outputs": [],
   "source": []
  }
 ],
 "metadata": {
  "kernelspec": {
   "display_name": "anaconda-panel-2023.05-py310",
   "language": "python",
   "name": "conda-env-anaconda-panel-2023.05-py310-py"
  },
  "language_info": {
   "codemirror_mode": {
    "name": "ipython",
    "version": 3
   },
   "file_extension": ".py",
   "mimetype": "text/x-python",
   "name": "python",
   "nbconvert_exporter": "python",
   "pygments_lexer": "ipython3",
   "version": "3.11.5"
  }
 },
 "nbformat": 4,
 "nbformat_minor": 5
}
